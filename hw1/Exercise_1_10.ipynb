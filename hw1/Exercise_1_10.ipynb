{
 "metadata": {
  "name": "Exercise_1_10"
 }, 
 "nbformat": 2, 
 "worksheets": [
  {
   "cells": [
    {
     "cell_type": "markdown", 
     "source": [
      "## EXERCISE 1.10 from the book of Abu-Mostafa"
     ]
    }, 
    {
     "cell_type": "code", 
     "collapsed": false, 
     "input": [
      "# In iPython or the iPython notebook, it's easiest to use the pylab magic, which", 
      "# imports matplotlib, numpy, and scipy.", 
      "# The inline flag means that images will be shown here in the notebooks, rather", 
      "# than in pop-up windows.", 
      "%pylab inline", 
      "# If you are using 'regular' Python, however, you'll want the following. You'll", 
      "# need to also separately import numpy and any other packages that you might need.", 
      "", 
      "#import numpy as np", 
      "#import matplotlib.pyplot as plt", 
      "import random"
     ], 
     "language": "python", 
     "outputs": [
      {
       "output_type": "stream", 
       "stream": "stdout", 
       "text": [
        "", 
        "Welcome to pylab, a matplotlib-based Python environment [backend: module://IPython.zmq.pylab.backend_inline].", 
        "For more information, type 'help(pylab)'."
       ]
      }
     ], 
     "prompt_number": 1
    }, 
    {
     "cell_type": "code", 
     "collapsed": true, 
     "input": [
      "ncoins=30", 
      "ntosses=10", 
      "ntimes=10000", 
      "mu=0.5"
     ], 
     "language": "python", 
     "outputs": [], 
     "prompt_number": 2
    }, 
    {
     "cell_type": "code", 
     "collapsed": true, 
     "input": [
      "# gather statistics as proposed in exercise 1.10", 
      "times=0", 
      "nu1=[] # first coin", 
      "nu2=[] # random coin", 
      "nu3=[] # coin with smallest frequency", 
      "while times<ntimes:", 
      "    times = times + 1", 
      "    i=0", 
      "    coins=[]", 
      "    while i < ncoins:", 
      "        j=0", 
      "        sum=0.", 
      "        while j < ntosses:", 
      "            toss_value = np.random.binomial(1,mu)", 
      "            sum = sum + toss_value", 
      "            j=j+1    ", 
      "        coins.append(sum/ntosses)", 
      "        i=i+1", 
      "    nu1.append(coins[1])", 
      "    nu2.append(random.choice(coins))", 
      "    nu3.append(min(coins))"
     ], 
     "language": "python", 
     "outputs": [], 
     "prompt_number": 3
    }, 
    {
     "cell_type": "code", 
     "collapsed": false, 
     "input": [
      "fig, (ax1, ax2, ax3) = plt.subplots(3, 1)", 
      "##ax1.plot(x,y1, label='sin')", 
      "#hist1=plt.hist(nu1,20)", 
      "#plt.savefig(\"hist1.png\")", 
      "#fig = plt.figure()", 
      "#ax = fig.add_subplot(111)", 
      "n1, bins1, patches1 = ax1.hist(nu1, 50, normed=1, facecolor='green', alpha=0.75)", 
      "n2, bins2, patches2 = ax2.hist(nu2, 50, normed=1, facecolor='blue', alpha=0.75)", 
      "n3, bins3, patches3 = ax3.hist(nu3, 50, normed=1, facecolor='red', alpha=0.75)", 
      "#plt.show()", 
      "fig.savefig('nus.png')"
     ], 
     "language": "python", 
     "outputs": [
      {
       "output_type": "display_data", 
       "png": "[encoded data removed]"
      }
     ], 
     "prompt_number": 4
    }, 
    {
     "cell_type": "code", 
     "collapsed": true, 
     "input": [], 
     "language": "python", 
     "outputs": []
    }
   ]
  }
 ]
}