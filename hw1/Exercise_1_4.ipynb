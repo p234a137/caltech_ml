{
 "metadata": {
  "name": "Exercise_1_4"
 }, 
 "nbformat": 2, 
 "worksheets": [
  {
   "cells": [
    {
     "cell_type": "markdown", 
     "source": [
      "# Exercise 1.4 from the book"
     ]
    }, 
    {
     "cell_type": "code", 
     "collapsed": false, 
     "input": [
      "%pylab inline", 
      "import random", 
      "import scipy"
     ], 
     "language": "python", 
     "outputs": [
      {
       "output_type": "stream", 
       "stream": "stdout", 
       "text": [
        "", 
        "Welcome to pylab, a matplotlib-based Python environment [backend: module://IPython.zmq.pylab.backend_inline].", 
        "For more information, type 'help(pylab)'."
       ]
      }
     ], 
     "prompt_number": 131
    }, 
    {
     "cell_type": "code", 
     "collapsed": true, 
     "input": [
      "dimension=2", 
      "number_sampling=10"
     ], 
     "language": "python", 
     "outputs": [], 
     "prompt_number": 82
    }, 
    {
     "cell_type": "code", 
     "collapsed": false, 
     "input": [
      "x1=-0.2; y1=-1", 
      "x2=0.5; y2=1", 
      "def target(x,y):", 
      "    if y>=(y1+(x-x1)*(y2-y1)/(x2-x1)):", 
      "         return 1", 
      "    else:", 
      "        return -1", 
      "", 
      "#print target(0.0,0.1)"
     ], 
     "language": "python", 
     "outputs": [], 
     "prompt_number": 83
    }, 
    {
     "cell_type": "code", 
     "collapsed": true, 
     "input": [
      "# generate random training points", 
      "xn=[]; yn=[]; zn=[];", 
      "for i in range(1,number_sampling):", 
      "    x=random.uniform(-1,1)", 
      "    y=random.uniform(-1,1)", 
      "    xn.append(x)", 
      "    yn.append(y)", 
      "    # classify using zn depending on whether they fall above or below the line", 
      "    if y>(y1+(x-x1)*(y2-y1)/(x2-x1)):", 
      "        zn.append(+1)", 
      "    else:", 
      "        zn.append(-1)"
     ], 
     "language": "python", 
     "outputs": [], 
     "prompt_number": 97
    }, 
    {
     "cell_type": "code", 
     "collapsed": false, 
     "input": [
      "#fig, ax1 = plt.subplots(1, 1)", 
      "# the target function", 
      "plt.plot([x1,x2],[y1,y2],linewidth=1)", 
      "# the square phase space", 
      "plt.plot([-1,1],[1,1]); plt.plot([1,1],[1,-1]);", 
      "plt.plot([1,-1],[-1,-1]);plt.plot([-1,-1],[-1,1]);", 
      "# plot the traning points", 
      "for i in range(1,len(xn)):", 
      "    if zn[i]>0:", 
      "        plt.scatter(xn[i], yn[i], s=30, c='b', marker=\"+\")", 
      "    else:", 
      "        plt.scatter(xn[i], yn[i], s=30, c='r', marker=\"o\")", 
      "# axes ranges", 
      "plt.ylim([-1.3,1.3])", 
      "plt.xlim([-1.3,1.3])"
     ], 
     "language": "python", 
     "outputs": [
      {
       "output_type": "pyout", 
       "prompt_number": 98, 
       "text": [
        "(-1.3, 1.3)"
       ]
      }, 
      {
       "output_type": "display_data", 
       "png": "[encoded data removed]"
      }
     ], 
     "prompt_number": 98
    }, 
    {
     "cell_type": "markdown", 
     "source": [
      "## Perceptron Learning Algorithm"
     ]
    }, 
    {
     "cell_type": "code", 
     "collapsed": true, 
     "input": [
      "# re-generate random training points", 
      "number_sampling=10", 
      "xn=[]; yn=[]; zn=[];", 
      "for i in range(1,number_sampling):", 
      "    x=random.uniform(-1,1)", 
      "    y=random.uniform(-1,1)", 
      "    xn.append(x)", 
      "    yn.append(y)", 
      "    # classify using zn depending on whether they fall above or below the line", 
      "    if y>(y1+(x-x1)*(y2-y1)/(x2-x1)):", 
      "        zn.append(+1)", 
      "    else:", 
      "        zn.append(-1)"
     ], 
     "language": "python", 
     "outputs": [], 
     "prompt_number": 177
    }, 
    {
     "cell_type": "code", 
     "collapsed": false, 
     "input": [
      "nruns=10000; # number of runs, times to iterate the PLA", 
      "x0=1;", 
      "w = [0,0,0] # [w0=b, w2 for x, w3 for y]", 
      "for t in range(1,nruns):", 
      "    i = random.randint(0,len(xn)-1)", 
      "    # use cmp to simulate the sign function", 
      "    hyp = cmp(w[0]*1. + w[1]*xn[i] + w[2]*yn[i], 0)", 
      "    trg = target(xn[i],yn[i])", 
      "    if not cmp(hyp, trg) == 0 :", 
      "        w[0] = w[0] + trg*x0", 
      "        w[1] = w[1] + trg*xn[i]", 
      "        w[2] = w[2] + trg*yn[i]", 
      "        if trg*xn[i]/w[1] < 0.01:", 
      "            print 'converged at iteration',t", 
      "", 
      "#fig, ax1 = plt.subplots(1, 1)", 
      "# the target function", 
      "plt.plot([x1,x2],[y1,y2],linewidth=1)", 
      "# the square phase space", 
      "plt.plot([-1,1],[1,1]); plt.plot([1,1],[1,-1]);", 
      "plt.plot([1,-1],[-1,-1]);plt.plot([-1,-1],[-1,1]);", 
      "# plot the traning points", 
      "for i in range(1,len(xn)):", 
      "    if zn[i]>0:", 
      "        plt.scatter(xn[i], yn[i], s=30, c='b', marker=\"+\")", 
      "    else:", 
      "        plt.scatter(xn[i], yn[i], s=30, c='r', marker=\"o\")", 
      "# hypothesis", 
      "xx = np.linspace(-1,1,100)", 
      "yy = -(w[0]+w[1]*xx)/w[2]", 
      "plt.plot(xx,yy)", 
      "# axes ranges", 
      "plt.ylim([-1.3,1.3])", 
      "plt.xlim([-1.3,1.3])"
     ], 
     "language": "python", 
     "outputs": [
      {
       "output_type": "pyout", 
       "prompt_number": 183, 
       "text": [
        "(-1.3, 1.3)"
       ]
      }, 
      {
       "output_type": "display_data", 
       "png": "[encoded data removed]"
      }
     ], 
     "prompt_number": 183
    }, 
    {
     "cell_type": "code", 
     "collapsed": true, 
     "input": [], 
     "language": "python", 
     "outputs": []
    }
   ]
  }
 ]
}