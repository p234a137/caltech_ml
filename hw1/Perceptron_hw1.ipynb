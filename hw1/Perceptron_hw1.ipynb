{
 "metadata": {
  "name": "Perceptron_hw1"
 }, 
 "nbformat": 2, 
 "worksheets": [
  {
   "cells": [
    {
     "cell_type": "markdown", 
     "source": [
      "# Perceptron exercise from homework 1, April 8, 2013"
     ]
    }, 
    {
     "cell_type": "code", 
     "collapsed": false, 
     "input": [
      "%pylab inline", 
      "import random"
     ], 
     "language": "python", 
     "outputs": [
      {
       "output_type": "stream", 
       "stream": "stdout", 
       "text": [
        "", 
        "Welcome to pylab, a matplotlib-based Python environment [backend: module://IPython.zmq.pylab.backend_inline].", 
        "For more information, type 'help(pylab)'."
       ]
      }
     ], 
     "prompt_number": 15
    }, 
    {
     "cell_type": "code", 
     "collapsed": false, 
     "input": [
      "number_runs=20", 
      "number_iterations=1000", 
      "dimension=2", 
      "number_training=100", 
      "", 
      "for run in range(0,number_runs):", 
      "    # target function", 
      "    x1=random.uniform(-1,1); y1=random.uniform(-1,1);", 
      "    x2=random.uniform(-1,1); y2=random.uniform(-1,1);", 
      "    def target(x,y):", 
      "        if y>=(y1+(x-x1)*(y2-y1)/(x2-x1)):", 
      "            return 1", 
      "        else:", 
      "            return -1", 
      "    # training points", 
      "    xn=[]; yn=[]; zn=[];", 
      "    for i in range(1,number_training):", 
      "        x=random.uniform(-1,1)", 
      "        y=random.uniform(-1,1)", 
      "        xn.append(x)", 
      "        yn.append(y)", 
      "        # classify using zn depending on whether they fall above or below the line", 
      "        if y>(y1+(x-x1)*(y2-y1)/(x2-x1)):", 
      "            zn.append(+1)", 
      "        else:", 
      "            zn.append(-1)", 
      "    # iterate PLA until it converges", 
      "    x0=1", 
      "    w = [0,0,0] # [w0=b, w2 for x, w3 for y]", 
      "    for iter in range(1,number_iterations):", 
      "        i = random.randint(0,len(xn)-1); # pick randomly a point from xn", 
      "        # use cmp to simulate the sign function", 
      "        hyp = cmp(w[0]*1. + w[1]*xn[i] + w[2]*yn[i], 0); # hypothesis", 
      "        trg = target(xn[i],yn[i]); # target function", 
      "        if not cmp(hyp, trg) == 0 :", 
      "            w[0] = w[0] + trg*x0", 
      "            w[1] = w[1] + trg*xn[i]", 
      "            w[2] = w[2] + trg*yn[i]", 
      "        #compare two arrays to check whether algorithm converged", 
      "        converged = False", 
      "        nr_converged = 0;", 
      "        for j in range(0,len(xn)):", 
      "            hyp = cmp(w[0]*1. + w[1]*xn[j] + w[2]*yn[j], 0); # hypothesis", 
      "            trg = target(xn[j],yn[j]); # target function", 
      "            if cmp(hyp, trg) == 0:", 
      "                nr_converged = nr_converged+1", 
      "        if nr_converged == len(xn):", 
      "            converged= True", 
      "            print \"PLA for \",number_training,\" points converged after \",iter,\" iterations\"", 
      "            break; # stop iterations", 
      "                       ", 
      "                       ", 
      "  "
     ], 
     "language": "python", 
     "outputs": [
      {
       "output_type": "stream", 
       "stream": "stdout", 
       "text": [
        "PLA for  100  points converged after  293  iterations", 
        "PLA for "
       ]
      }, 
      {
       "output_type": "stream", 
       "stream": "stdout", 
       "text": [
        " 100  points converged after  202  iterations", 
        "PLA for "
       ]
      }, 
      {
       "output_type": "stream", 
       "stream": "stdout", 
       "text": [
        " 100  points converged after  265  iterations", 
        "PLA for "
       ]
      }, 
      {
       "output_type": "stream", 
       "stream": "stdout", 
       "text": [
        " 100  points converged after  89  iterations", 
        "PLA for  100  points converged after  68  iterations", 
        "PLA for "
       ]
      }, 
      {
       "output_type": "stream", 
       "stream": "stdout", 
       "text": [
        " 100  points converged after  767  iterations", 
        "PLA for "
       ]
      }, 
      {
       "output_type": "stream", 
       "stream": "stdout", 
       "text": [
        " 100  points converged after  826  iterations", 
        "PLA for "
       ]
      }, 
      {
       "output_type": "stream", 
       "stream": "stdout", 
       "text": [
        " 100  points converged after  536  iterations", 
        "PLA for "
       ]
      }, 
      {
       "output_type": "stream", 
       "stream": "stdout", 
       "text": [
        " 100  points converged after  681  iterations", 
        "PLA for "
       ]
      }, 
      {
       "output_type": "stream", 
       "stream": "stdout", 
       "text": [
        " 100  points converged after  594  iterations"
       ]
      }
     ], 
     "prompt_number": 31
    }, 
    {
     "cell_type": "code", 
     "collapsed": true, 
     "input": [], 
     "language": "python", 
     "outputs": []
    }
   ]
  }
 ]
}